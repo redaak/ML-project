{
 "cells": [
  {
   "cell_type": "code",
   "execution_count": 60,
   "id": "a21f3506",
   "metadata": {},
   "outputs": [],
   "source": [
    "import numpy as np\n",
    "import torch"
   ]
  },
  {
   "cell_type": "code",
   "execution_count": 47,
   "id": "118ce5c0",
   "metadata": {},
   "outputs": [],
   "source": [
    "w=np.linspace(1,9,8).reshape(8,)"
   ]
  },
  {
   "cell_type": "code",
   "execution_count": 48,
   "id": "302d6165",
   "metadata": {},
   "outputs": [],
   "source": [
    "w=torch.from_numpy(w)"
   ]
  },
  {
   "cell_type": "code",
   "execution_count": 49,
   "id": "308c8f38",
   "metadata": {},
   "outputs": [
    {
     "data": {
      "text/plain": [
       "tensor([1.0000, 2.1429, 3.2857, 4.4286, 5.5714, 6.7143, 7.8571, 9.0000],\n",
       "       dtype=torch.float64)"
      ]
     },
     "execution_count": 49,
     "metadata": {},
     "output_type": "execute_result"
    }
   ],
   "source": [
    "w"
   ]
  },
  {
   "cell_type": "code",
   "execution_count": 50,
   "id": "e916bad3",
   "metadata": {},
   "outputs": [
    {
     "data": {
      "text/plain": [
       "<bound method Tensor.backward of tensor([1.0000, 2.1429, 3.2857, 4.4286, 5.5714, 6.7143, 7.8571, 9.0000],\n",
       "       dtype=torch.float64)>"
      ]
     },
     "execution_count": 50,
     "metadata": {},
     "output_type": "execute_result"
    }
   ],
   "source": [
    "w.backward"
   ]
  },
  {
   "cell_type": "code",
   "execution_count": 66,
   "id": "ad9fcea5",
   "metadata": {},
   "outputs": [],
   "source": [
    "import torch.nn as nn\n",
    "from torch.utils.data import TensorDataset,DataLoader"
   ]
  },
  {
   "cell_type": "code",
   "execution_count": 61,
   "id": "ba04e94d",
   "metadata": {},
   "outputs": [],
   "source": [
    "# Input (temp, rainfall, humidity)\n",
    "inputs = np.array([[73, 67, 43], \n",
    "                   [91, 88, 64], \n",
    "                   [87, 134, 58], \n",
    "                   [102, 43, 37], \n",
    "                   [69, 96, 70], \n",
    "                   [74, 66, 43], \n",
    "                   [91, 87, 65], \n",
    "                   [88, 134, 59], \n",
    "                   [101, 44, 37], \n",
    "                   [68, 96, 71], \n",
    "                   [73, 66, 44], \n",
    "                   [92, 87, 64], \n",
    "                   [87, 135, 57], \n",
    "                   [103, 43, 36], \n",
    "                   [68, 97, 70]], \n",
    "                  dtype='float32')\n",
    "\n",
    "# Targets (apples, oranges)\n",
    "targets = np.array([[56, 70], \n",
    "                    [81, 101], \n",
    "                    [119, 133], \n",
    "                    [22, 37], \n",
    "                    [103, 119],\n",
    "                    [57, 69], \n",
    "                    [80, 102], \n",
    "                    [118, 132], \n",
    "                    [21, 38], \n",
    "                    [104, 118], \n",
    "                    [57, 69], \n",
    "                    [82, 100], \n",
    "                    [118, 134], \n",
    "                    [20, 38], \n",
    "                    [102, 120]], \n",
    "                   dtype='float32')\n",
    "\n",
    "inputs = torch.from_numpy(inputs)\n",
    "targets = torch.from_numpy(targets)"
   ]
  },
  {
   "cell_type": "code",
   "execution_count": 63,
   "id": "2f280f28",
   "metadata": {},
   "outputs": [],
   "source": [
    "train_ds=TensorDataset(inputs,targets)"
   ]
  },
  {
   "cell_type": "code",
   "execution_count": 65,
   "id": "2a98c403",
   "metadata": {},
   "outputs": [
    {
     "data": {
      "text/plain": [
       "(tensor([[ 73.,  67.,  43.],\n",
       "         [ 91.,  88.,  64.],\n",
       "         [ 87., 134.,  58.]]),\n",
       " tensor([[ 56.,  70.],\n",
       "         [ 81., 101.],\n",
       "         [119., 133.]]))"
      ]
     },
     "execution_count": 65,
     "metadata": {},
     "output_type": "execute_result"
    }
   ],
   "source": [
    "train_ds[0:3]"
   ]
  },
  {
   "cell_type": "code",
   "execution_count": 67,
   "id": "1bb35d72",
   "metadata": {},
   "outputs": [],
   "source": [
    "batch_size=5\n",
    "train_dl=DataLoader(train_ds,batch_size,shuffle=True)"
   ]
  },
  {
   "cell_type": "code",
   "execution_count": 74,
   "id": "911e1c43",
   "metadata": {},
   "outputs": [
    {
     "name": "stdout",
     "output_type": "stream",
     "text": [
      "tensor([[ 91.,  87.,  65.],\n",
      "        [ 73.,  66.,  44.],\n",
      "        [ 87., 135.,  57.],\n",
      "        [ 69.,  96.,  70.],\n",
      "        [ 68.,  96.,  71.]])\n",
      "tensor([[ 80., 102.],\n",
      "        [ 57.,  69.],\n",
      "        [118., 134.],\n",
      "        [103., 119.],\n",
      "        [104., 118.]])\n",
      "tensor([[103.,  43.,  36.],\n",
      "        [ 73.,  67.,  43.],\n",
      "        [102.,  43.,  37.],\n",
      "        [ 92.,  87.,  64.],\n",
      "        [ 91.,  88.,  64.]])\n",
      "tensor([[ 20.,  38.],\n",
      "        [ 56.,  70.],\n",
      "        [ 22.,  37.],\n",
      "        [ 82., 100.],\n",
      "        [ 81., 101.]])\n",
      "tensor([[ 87., 134.,  58.],\n",
      "        [ 68.,  97.,  70.],\n",
      "        [ 74.,  66.,  43.],\n",
      "        [101.,  44.,  37.],\n",
      "        [ 88., 134.,  59.]])\n",
      "tensor([[119., 133.],\n",
      "        [102., 120.],\n",
      "        [ 57.,  69.],\n",
      "        [ 21.,  38.],\n",
      "        [118., 132.]])\n"
     ]
    }
   ],
   "source": [
    "for xb ,yb in train_dl:\n",
    "    print(xb)\n",
    "    print(yb)\n",
    "    "
   ]
  },
  {
   "cell_type": "code",
   "execution_count": 76,
   "id": "edeea562",
   "metadata": {},
   "outputs": [
    {
     "name": "stdout",
     "output_type": "stream",
     "text": [
      "Parameter containing:\n",
      "tensor([[-0.4857,  0.5043, -0.3985],\n",
      "        [ 0.0364,  0.4945, -0.0454]], requires_grad=True)\n",
      "Parameter containing:\n",
      "tensor([-0.1015,  0.5126], requires_grad=True)\n"
     ]
    }
   ],
   "source": [
    "model=nn.Linear(3,2)\n",
    "print(model.weight)\n",
    "print(model.bias)"
   ]
  },
  {
   "cell_type": "code",
   "execution_count": 77,
   "id": "8f57919f",
   "metadata": {},
   "outputs": [
    {
     "data": {
      "text/plain": [
       "[Parameter containing:\n",
       " tensor([[-0.4857,  0.5043, -0.3985],\n",
       "         [ 0.0364,  0.4945, -0.0454]], requires_grad=True),\n",
       " Parameter containing:\n",
       " tensor([-0.1015,  0.5126], requires_grad=True)]"
      ]
     },
     "execution_count": 77,
     "metadata": {},
     "output_type": "execute_result"
    }
   ],
   "source": [
    "list(model.parameters())"
   ]
  },
  {
   "cell_type": "code",
   "execution_count": 79,
   "id": "990553eb",
   "metadata": {},
   "outputs": [
    {
     "data": {
      "text/plain": [
       "tensor([[-18.9090,  34.3437],\n",
       "        [-25.4307,  44.4282],\n",
       "        [  2.0988,  67.3003],\n",
       "        [-42.7064,  23.8042],\n",
       "        [-13.1015,  47.3110],\n",
       "        [-19.8990,  33.8856],\n",
       "        [-26.3335,  43.8883],\n",
       "        [  1.2146,  67.2913],\n",
       "        [-41.7164,  24.2623],\n",
       "        [-13.0143,  47.2292],\n",
       "        [-19.8117,  33.8038],\n",
       "        [-26.4207,  43.9701],\n",
       "        [  3.0015,  67.8402],\n",
       "        [-42.7937,  23.8860],\n",
       "        [-12.1115,  47.7690]], grad_fn=<AddmmBackward0>)"
      ]
     },
     "execution_count": 79,
     "metadata": {},
     "output_type": "execute_result"
    }
   ],
   "source": [
    "preds=model(inputs)\n",
    "preds"
   ]
  },
  {
   "cell_type": "code",
   "execution_count": 80,
   "id": "d5901c73",
   "metadata": {},
   "outputs": [],
   "source": [
    "import torch.nn.functional as F"
   ]
  },
  {
   "cell_type": "code",
   "execution_count": 81,
   "id": "05503ba9",
   "metadata": {},
   "outputs": [],
   "source": [
    "loss_func=F.mse_loss"
   ]
  },
  {
   "cell_type": "code",
   "execution_count": 83,
   "id": "ab9380a3",
   "metadata": {},
   "outputs": [
    {
     "data": {
      "text/plain": [
       "tensor(6228.9380, grad_fn=<MseLossBackward0>)"
      ]
     },
     "execution_count": 83,
     "metadata": {},
     "output_type": "execute_result"
    }
   ],
   "source": [
    "loss=loss_func(preds,targets)\n",
    "loss"
   ]
  },
  {
   "cell_type": "code",
   "execution_count": 86,
   "id": "8d5fecff",
   "metadata": {},
   "outputs": [],
   "source": [
    "opt=torch.optim.SGD(model.parameters(),lr=1e-5)"
   ]
  },
  {
   "cell_type": "code",
   "execution_count": 87,
   "id": "69b5467d",
   "metadata": {},
   "outputs": [],
   "source": [
    "def fit(num_epoch,model,loss_fn,opt,train_dl):\n",
    "    #number of epochs\n",
    "    for epoch in range(num_epoch):\n",
    "        for xb,yb in train_dl:\n",
    "            pred=model(xb)\n",
    "            loss=loss_fn(pred,yb)\n",
    "            loss.backward()\n",
    "            opt.step()\n",
    "            opt.zero_grad()\n",
    "        if(epoch+1)%10==0:\n",
    "            print('Epoch[{}/{}], loss:{:.4f}'.format(epoch+1,num_epoch,loss.item()))\n",
    "    "
   ]
  },
  {
   "cell_type": "code",
   "execution_count": 90,
   "id": "a673ff95",
   "metadata": {},
   "outputs": [
    {
     "name": "stdout",
     "output_type": "stream",
     "text": [
      "Epoch[10/120], loss:18.4070\n",
      "Epoch[20/120], loss:32.6903\n",
      "Epoch[30/120], loss:24.6396\n",
      "Epoch[40/120], loss:18.8796\n",
      "Epoch[50/120], loss:30.3645\n",
      "Epoch[60/120], loss:17.9153\n",
      "Epoch[70/120], loss:8.9092\n",
      "Epoch[80/120], loss:30.5658\n",
      "Epoch[90/120], loss:18.1126\n",
      "Epoch[100/120], loss:24.7598\n",
      "Epoch[110/120], loss:32.2356\n",
      "Epoch[120/120], loss:27.9784\n"
     ]
    }
   ],
   "source": [
    "fit(120,model,loss_func,opt,train_dl)"
   ]
  },
  {
   "cell_type": "code",
   "execution_count": null,
   "id": "90de7c71",
   "metadata": {},
   "outputs": [],
   "source": []
  }
 ],
 "metadata": {
  "kernelspec": {
   "display_name": "Python 3 (ipykernel)",
   "language": "python",
   "name": "python3"
  },
  "language_info": {
   "codemirror_mode": {
    "name": "ipython",
    "version": 3
   },
   "file_extension": ".py",
   "mimetype": "text/x-python",
   "name": "python",
   "nbconvert_exporter": "python",
   "pygments_lexer": "ipython3",
   "version": "3.9.13"
  }
 },
 "nbformat": 4,
 "nbformat_minor": 5
}
