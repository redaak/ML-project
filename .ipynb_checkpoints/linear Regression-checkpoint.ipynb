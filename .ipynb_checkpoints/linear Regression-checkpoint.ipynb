{
 "cells": [
  {
   "cell_type": "code",
   "execution_count": null,
   "id": "639d24d0",
   "metadata": {},
   "outputs": [],
   "source": [
    "import numpy as np\n",
    "import pandas as pd\n",
    "from sklearn.linear_model import LinearRegression\n",
    "import seaborn as sns\n",
    "import matplotlib.pyplot as p"
   ]
  },
  {
   "cell_type": "code",
   "execution_count": null,
   "id": "b232750a",
   "metadata": {},
   "outputs": [],
   "source": [
    "data = pd.read_csv(\"linearData.csv\")"
   ]
  },
  {
   "cell_type": "code",
   "execution_count": null,
   "id": "067fffad",
   "metadata": {},
   "outputs": [],
   "source": [
    "data\n",
    "y[\"Worldwide_Gross\"]=pd.DataFrame(data,columns=[\"Worldwide Gross\"])"
   ]
  },
  {
   "cell_type": "code",
   "execution_count": null,
   "id": "c07b47b0",
   "metadata": {},
   "outputs": [],
   "source": [
    "data"
   ]
  },
  {
   "cell_type": "code",
   "execution_count": null,
   "id": "475bae7d",
   "metadata": {},
   "outputs": [],
   "source": [
    "x[\"Production_Budget\"]=pd.DataFrame(data, columns=[\"Production Budget\"])"
   ]
  },
  {
   "cell_type": "code",
   "execution_count": null,
   "id": "017b1d2d",
   "metadata": {},
   "outputs": [],
   "source": [
    "reger=LinearRegression()\n",
    "reger.fit(x,y)"
   ]
  },
  {
   "cell_type": "code",
   "execution_count": 1,
   "id": "eccad947",
   "metadata": {},
   "outputs": [],
   "source": [
    "from BostonVal import boston_valuation_tool as val"
   ]
  },
  {
   "cell_type": "code",
   "execution_count": 2,
   "id": "2955636c",
   "metadata": {},
   "outputs": [
    {
     "name": "stdout",
     "output_type": "stream",
     "text": [
      "predicted price is 5,815,126 $ \n",
      "in the range of -3,996,577 $ _ +8,461,163 $\n"
     ]
    }
   ],
   "source": [
    "val.Estimate_Price(8,15)"
   ]
  },
  {
   "cell_type": "code",
   "execution_count": 2,
   "id": "e2ab5128",
   "metadata": {},
   "outputs": [],
   "source": [
    "import torch as tt"
   ]
  },
  {
   "cell_type": "code",
   "execution_count": null,
   "id": "cef51680",
   "metadata": {},
   "outputs": [],
   "source": []
  },
  {
   "cell_type": "code",
   "execution_count": 5,
   "id": "a0ba465e",
   "metadata": {},
   "outputs": [],
   "source": [
    "import numpy as np"
   ]
  },
  {
   "cell_type": "code",
   "execution_count": 7,
   "id": "5fca8be9",
   "metadata": {},
   "outputs": [],
   "source": [
    "a=np.linspace(-2,2,10)"
   ]
  },
  {
   "cell_type": "code",
   "execution_count": null,
   "id": "6416c103",
   "metadata": {},
   "outputs": [],
   "source": [
    "tt.tensor(a)"
   ]
  },
  {
   "cell_type": "code",
   "execution_count": null,
   "id": "557fb2bb",
   "metadata": {},
   "outputs": [],
   "source": []
  }
 ],
 "metadata": {
  "kernelspec": {
   "display_name": "Python 3 (ipykernel)",
   "language": "python",
   "name": "python3"
  },
  "language_info": {
   "codemirror_mode": {
    "name": "ipython",
    "version": 3
   },
   "file_extension": ".py",
   "mimetype": "text/x-python",
   "name": "python",
   "nbconvert_exporter": "python",
   "pygments_lexer": "ipython3",
   "version": "3.9.13"
  }
 },
 "nbformat": 4,
 "nbformat_minor": 5
}
