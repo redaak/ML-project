{
 "cells": [
  {
   "cell_type": "markdown",
   "id": "feed321d",
   "metadata": {},
   "source": [
    "# Machine learning course by Stanford University \n",
    "## Model and Cost Function"
   ]
  },
  {
   "cell_type": "markdown",
   "id": "44bb54c2",
   "metadata": {},
   "source": [
    "## Notebook Imports"
   ]
  },
  {
   "cell_type": "code",
   "execution_count": 24,
   "id": "f3db9a6f",
   "metadata": {},
   "outputs": [],
   "source": [
    "import numpy as np\n",
    "import pandas as pd\n",
    "import seaborn as sns\n",
    "from sys import getsizeof\n",
    "import matplotlib.pyplot as plt\n",
    "%matplotlib inline"
   ]
  },
  {
   "cell_type": "markdown",
   "id": "1d246c72",
   "metadata": {},
   "source": [
    "# Cost Function\n",
    "## $$ J(\\theta_{0},\\theta_{1}) = \\frac{1}{m} \\sum_{i=1}^{m}(h_\\theta(x^{(i)})-y^{(i)})^2 $$\n",
    "## $ h_\\theta(x)= \\theta_{0}+ \\theta_{1}x $"
   ]
  },
  {
   "cell_type": "code",
   "execution_count": 87,
   "id": "b9fc9346",
   "metadata": {},
   "outputs": [],
   "source": [
    "def j(h,y):\n",
    "    map_list=[]\n",
    "    coF=1/len(h)\n",
    "    for i in range(0,len(y)):\n",
    "        s=h[i]**2-y[i]**2\n",
    "        map_list.append(coF*s)\n",
    "    minima=min(map_list)\n",
    "    return map_list, minima\n",
    "            "
   ]
  },
  {
   "cell_type": "code",
   "execution_count": 88,
   "id": "15b19baf",
   "metadata": {},
   "outputs": [],
   "source": [
    "y=[1,2,3,4,5,6,7]\n",
    "x=[0.5,1,1.5,2,2.5,3,3.5]\n"
   ]
  },
  {
   "cell_type": "code",
   "execution_count": 89,
   "id": "2b34a4dd",
   "metadata": {},
   "outputs": [],
   "source": [
    "param=np.linspace(-2,2,7)\n",
    "hyp=np.array(np.multiply(x,param))"
   ]
  },
  {
   "cell_type": "code",
   "execution_count": 91,
   "id": "88d6a380",
   "metadata": {},
   "outputs": [
    {
     "data": {
      "text/plain": [
       "([0.0,\n",
       "  -0.3174603174603174,\n",
       "  -1.1428571428571428,\n",
       "  -2.2857142857142856,\n",
       "  -3.174603174603175,\n",
       "  -2.857142857142858,\n",
       "  0.0],\n",
       " -3.174603174603175)"
      ]
     },
     "execution_count": 91,
     "metadata": {},
     "output_type": "execute_result"
    }
   ],
   "source": [
    "jMin=j(hyp,y)"
   ]
  },
  {
   "cell_type": "code",
   "execution_count": 95,
   "id": "42614f12",
   "metadata": {},
   "outputs": [
    {
     "data": {
      "image/png": "[encoded data removed]",
      "text/plain": [
       "<Figure size 432x288 with 1 Axes>"
      ]
     },
     "metadata": {
      "needs_background": "light"
     },
     "output_type": "display_data"
    }
   ],
   "source": [
    "plt.scatter(x,y)\n",
    "plt.plot(y,hyp)\n",
    "plt.show()"
   ]
  },
  {
   "cell_type": "code",
   "execution_count": 96,
   "id": "11630735",
   "metadata": {},
   "outputs": [
    {
     "data": {
      "image/png": "[encoded data removed]",
      "text/plain": [
       "<Figure size 432x288 with 1 Axes>"
      ]
     },
     "metadata": {
      "needs_background": "light"
     },
     "output_type": "display_data"
    }
   ],
   "source": [
    "plt.scatter(y,jMin[0])\n",
    "plt.show()"
   ]
  },
  {
   "cell_type": "code",
   "execution_count": 93,
   "id": "ed496941",
   "metadata": {},
   "outputs": [
    {
     "data": {
      "text/plain": [
       "-3.174603174603175"
      ]
     },
     "execution_count": 93,
     "metadata": {},
     "output_type": "execute_result"
    }
   ],
   "source": [
    "jMin[1]"
   ]
  },
  {
   "cell_type": "code",
   "execution_count": null,
   "id": "4d110deb",
   "metadata": {},
   "outputs": [],
   "source": []
  },
  {
   "cell_type": "code",
   "execution_count": null,
   "id": "a5c85ed5",
   "metadata": {},
   "outputs": [],
   "source": []
  },
  {
   "cell_type": "code",
   "execution_count": null,
   "id": "8d52ce74",
   "metadata": {},
   "outputs": [],
   "source": []
  },
  {
   "cell_type": "code",
   "execution_count": null,
   "id": "07dc8552",
   "metadata": {},
   "outputs": [],
   "source": []
  },
  {
   "cell_type": "code",
   "execution_count": null,
   "id": "9fd4ac09",
   "metadata": {},
   "outputs": [],
   "source": []
  },
  {
   "cell_type": "code",
   "execution_count": null,
   "id": "5ddd10f0",
   "metadata": {},
   "outputs": [],
   "source": []
  },
  {
   "cell_type": "code",
   "execution_count": null,
   "id": "6d7beae9",
   "metadata": {},
   "outputs": [],
   "source": []
  },
  {
   "cell_type": "code",
   "execution_count": null,
   "id": "d412f264",
   "metadata": {},
   "outputs": [],
   "source": []
  },
  {
   "cell_type": "code",
   "execution_count": null,
   "id": "398a20fa",
   "metadata": {},
   "outputs": [],
   "source": []
  },
  {
   "cell_type": "code",
   "execution_count": null,
   "id": "0d438da5",
   "metadata": {},
   "outputs": [],
   "source": []
  },
  {
   "cell_type": "code",
   "execution_count": null,
   "id": "2c5b84d3",
   "metadata": {},
   "outputs": [],
   "source": []
  },
  {
   "cell_type": "code",
   "execution_count": null,
   "id": "7ff5ab8f",
   "metadata": {},
   "outputs": [],
   "source": []
  }
 ],
 "metadata": {
  "kernelspec": {
   "display_name": "Python 3 (ipykernel)",
   "language": "python",
   "name": "python3"
  },
  "language_info": {
   "codemirror_mode": {
    "name": "ipython",
    "version": 3
   },
   "file_extension": ".py",
   "mimetype": "text/x-python",
   "name": "python",
   "nbconvert_exporter": "python",
   "pygments_lexer": "ipython3",
   "version": "3.9.7"
  }
 },
 "nbformat": 4,
 "nbformat_minor": 5
}
